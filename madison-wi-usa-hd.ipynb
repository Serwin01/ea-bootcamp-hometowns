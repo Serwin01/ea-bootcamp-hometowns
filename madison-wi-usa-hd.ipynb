{
 "cells": [
  {
   "cell_type": "markdown",
   "metadata": {},
   "source": [
    "### Madison, Wisconsin"
   ]
  },
  {
   "cell_type": "markdown",
   "metadata": {},
   "source": [
    "Madison is the capital of the U.S. state of Wisconsin and the seat of Dane County. As of July 1, 2017, Madison's estimated population of 255,214 made it the second-largest city in Wisconsin, after Milwaukee, and the 82nd-largest in the United States. The city forms the core of the United States Census Bureau's Madison Metropolitan Statistical Area, which includes Dane County and neighboring Iowa, Green, and Columbia counties. The Madison Metropolitan Statistical Area's 2010 population was 568,593.\n",
    "\n",
    "Founded in 1829 on an isthmus between Lake Monona and Lake Mendota, Madison was named the capital of the Wisconsin Territory in 1836 and became the capital of the state of Wisconsin when it was admitted to the Union in 1848. That same year, the University of Wisconsin was founded in Madison and the state government and university have become the city's two largest employers.[5] The city is also known for its lakes, restaurants, and extensive network of parks and bike trails, with much of the park system designed by landscape architect John Nolen.\n",
    "\n",
    "More information about Madison can be found on this website: <a href=\"http://earthdatascience.org/courses/earth-analytics-bootcamp/\" target=\"_blank\">Greater Madison Visitors Bureau </a>\n",
    "\n",
    "\n",
    "<figure>\n",
    "   <a href=\"https://www.presidential-aviation.com/wp-content/uploads/page/private-jet-charter-to-madison-wisconsin.jpg\">\n",
    "   <img src=\"https://www.presidential-aviation.com/wp-content/uploads/page/private-jet-charter-to-madison-wisconsin.jpg\" alt=\"You can use Markdown to add images to Jupyter Notebook files, such as this image of the Markdown logo. Source: Full Stack Python.\"></a>\n",
    "   <figcaption> Wisconsin State Capitol, Madison, Wisconsin.\n",
    "   </figcaption>\n",
    "</figure>\n",
    "    \n",
    "\n"
   ]
  },
  {
   "cell_type": "code",
   "execution_count": null,
   "metadata": {},
   "outputs": [],
   "source": []
  }
 ],
 "metadata": {
  "kernelspec": {
   "display_name": "Python 3",
   "language": "python",
   "name": "python3"
  },
  "language_info": {
   "codemirror_mode": {
    "name": "ipython",
    "version": 3
   },
   "file_extension": ".py",
   "mimetype": "text/x-python",
   "name": "python",
   "nbconvert_exporter": "python",
   "pygments_lexer": "ipython3",
   "version": "3.6.5"
  }
 },
 "nbformat": 4,
 "nbformat_minor": 2
}
