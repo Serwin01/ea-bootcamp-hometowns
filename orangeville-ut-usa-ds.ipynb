{
 "cells": [
  {
   "cell_type": "markdown",
   "metadata": {},
   "source": [
    "# Orangeville, UT, USA\n",
    "\n",
    "I was not born here, but I frequently visit this place often. I chose to write about this place because I frequently visit the area on vacation time. Whats significant about Orangeville, UT is that it is one of the best rock climbing, more specifically bouldering, areas in the United States. The rock climbing area specifically is called Joe's Valley.\n",
    "\n",
    "Population is located here <a href=\"https://en.wikipedia.org/wiki/Orangeville,_Utah\" target=\"_blank\">this link</a>"
   ]
  },
  {
   "cell_type": "markdown",
   "metadata": {},
   "source": [
    "### Joe's Valley, Utah\n",
    "\n",
    "<figure>\n",
    "   <a href=\"https://cdn-files.apstatic.com/climb/111099847_smallMed_1494339973_topo.jpg\">\n",
    "   <img src=\"https://cdn-files.apstatic.com/climb/111099847_smallMed_1494339973_topo.jpg\"></a>\n",
    "   <figcaption> *One of the best boulders and problems in Joe's Valley; The Angler V2\n",
    "   </figcaption>\n",
    "</figure>"
   ]
  }
 ],
 "metadata": {
  "kernelspec": {
   "display_name": "Python 3",
   "language": "python",
   "name": "python3"
  },
  "language_info": {
   "codemirror_mode": {
    "name": "ipython",
    "version": 3
   },
   "file_extension": ".py",
   "mimetype": "text/x-python",
   "name": "python",
   "nbconvert_exporter": "python",
   "pygments_lexer": "ipython3",
   "version": "3.6.4"
  }
 },
 "nbformat": 4,
 "nbformat_minor": 2
}
