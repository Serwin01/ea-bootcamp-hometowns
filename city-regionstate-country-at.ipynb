{
 "cells": [
  {
   "cell_type": "markdown",
   "metadata": {},
   "source": [
    "# Fremont, California, United States of America\n",
    "\n",
    "I was born and raised in Fremont, and returned to teach for the school district's after-school band program, where I initially learned my first band instrument.\n",
    "\n",
    "City of Fremont, California, Demographics: https://www.fremont.gov/184/Demographics\n",
    "\n",
    "Mission Peak: http://coellefornia.us/wp-content/uploads/2017/09/mission-peak-e1505750321230.jpg"
   ]
  },
  {
   "cell_type": "code",
   "execution_count": null,
   "metadata": {},
   "outputs": [],
   "source": []
  }
 ],
 "metadata": {
  "kernelspec": {
   "display_name": "Python 3",
   "language": "python",
   "name": "python3"
  },
  "language_info": {
   "codemirror_mode": {
    "name": "ipython",
    "version": 3
   },
   "file_extension": ".py",
   "mimetype": "text/x-python",
   "name": "python",
   "nbconvert_exporter": "python",
   "pygments_lexer": "ipython3",
   "version": "3.6.5"
  }
 },
 "nbformat": 4,
 "nbformat_minor": 2
}
