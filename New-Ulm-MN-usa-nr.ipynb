{
 "cells": [
  {
   "cell_type": "markdown",
   "metadata": {},
   "source": [
    "# Add Jupyter Notebook on hometown "
   ]
  },
  {
   "cell_type": "markdown",
   "metadata": {},
   "source": [
    "Use Markdown to include the following information about your hometown or some other town/city of your choosing:\n",
    "\n",
    "Title that includes the name of the city/town, the region or state, and the country\n",
    "A few sentences (1-2) to describe your connection to this place or why you choose to write about it.\n",
    "Hyperlink to a web page that provides population information (e.g. Wikipedia)\n",
    "Image of popular local site or destination\n",
    "When you are done creating and modifying your notebook, add/commit/push the file to your fork on Github.com.\n",
    "\n"
   ]
  },
  {
   "cell_type": "markdown",
   "metadata": {},
   "source": [
    "## New Ulm, MN USA\n",
    "\n",
    "I lived in New Ulm, MN from age 6 through 18.  It's a small farm town, and my siblings and I have all moved away after high school, but my mom still lives in town.  The town is  <a href=\"https://en.wikipedia.org/wiki/New_Ulm,_Minnesota\">regionally famous</a> for its German heritage as the \"Polka Capital of the Nation\", locally brewed Schell's Beer, for a large  statue of \"Herman the German\", and for the old post office building, which is now serving the community as a museum.  <img src=\"https://upload.wikimedia.org/wikipedia/commons/e/ea/NewUlmPostOffice.jpg\">"
   ]
  },
  {
   "cell_type": "code",
   "execution_count": null,
   "metadata": {},
   "outputs": [],
   "source": []
  }
 ],
 "metadata": {
  "kernelspec": {
   "display_name": "Python 3",
   "language": "python",
   "name": "python3"
  },
  "language_info": {
   "codemirror_mode": {
    "name": "ipython",
    "version": 3
   },
   "file_extension": ".py",
   "mimetype": "text/x-python",
   "name": "python",
   "nbconvert_exporter": "python",
   "pygments_lexer": "ipython3",
   "version": "3.6.5"
  }
 },
 "nbformat": 4,
 "nbformat_minor": 2
}
