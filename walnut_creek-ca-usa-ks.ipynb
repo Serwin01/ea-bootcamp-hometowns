{
 "cells": [
  {
   "cell_type": "markdown",
   "metadata": {},
   "source": [
    "## Walnut Creek, CA, USA\n",
    "\n",
    "Walnut Creek, California is in northern California, located in what is referred to as the East Bay region of the San Francisco Bay Area. I was born and raised in Walnut Creek, and continue to have family and friends who live in the area. The skyline in Walnut Creek is dominated by Mount Diablo, part of the California Coastal Range. \n",
    "\n",
    "Population and demographic information can be found on the [Wikipedia page for the City of Walnut Creek, CA](https://en.wikipedia.org/wiki/Walnut_Creek,_California)\n",
    "\n",
    "![alt text](https://livability.com/sites/default/files/styles/article_feature_640x380/public/walnut_creek.jpg?itok=xCmbHXkd)"
   ]
  },
  {
   "cell_type": "code",
   "execution_count": null,
   "metadata": {},
   "outputs": [],
   "source": []
  }
 ],
 "metadata": {
  "kernelspec": {
   "display_name": "Python 3",
   "language": "python",
   "name": "python3"
  },
  "language_info": {
   "codemirror_mode": {
    "name": "ipython",
    "version": 3
   },
   "file_extension": ".py",
   "mimetype": "text/x-python",
   "name": "python",
   "nbconvert_exporter": "python",
   "pygments_lexer": "ipython3",
   "version": "3.6.5"
  }
 },
 "nbformat": 4,
 "nbformat_minor": 2
}
