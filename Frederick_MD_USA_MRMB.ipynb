{
 "cells": [
  {
   "cell_type": "markdown",
   "metadata": {},
   "source": [
    "\n",
    "# Frederick, Maryland, USA\n",
    "\n",
    "Frederick is where I grew up.  My family still lives there, and I visit them multiple times per year.  It's an interesting place that is quaint and friendly and also Trump Country.  D:\n",
    "\n",
    "Find out all about or <a href=\"https://en.wikipedia.org/wiki/Frederick,_Maryland\" target=\"_blank\">Frederick</a>\n",
    "\n",
    "<figure>\n",
    "        <a href=\"https://c1.staticflickr.com/5/4115/4942407603_7516752ec5_b.jpg\">\n",
    "        <img src=\"https://c1.staticflickr.com/5/4115/4942407603_7516752ec5_b.jpg\" alt=\"Baker Park, Frederick, MD\"></a>\n",
    "        <figcaption> Baker Park in Frederick, Maryland</figcaption>\n",
    "</figure>\n",
    "\n",
    "\n",
    "\n",
    "\n"
   ]
  }
 ],
 "metadata": {
  "kernelspec": {
   "display_name": "Python 3",
   "language": "python",
   "name": "python3"
  },
  "language_info": {
   "codemirror_mode": {
    "name": "ipython",
    "version": 3
   },
   "file_extension": ".py",
   "mimetype": "text/x-python",
   "name": "python",
   "nbconvert_exporter": "python",
   "pygments_lexer": "ipython3",
   "version": "3.6.5"
  }
 },
 "nbformat": 4,
 "nbformat_minor": 2
}
