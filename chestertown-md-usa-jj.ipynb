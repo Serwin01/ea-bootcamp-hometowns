{
 "cells": [
  {
   "cell_type": "markdown",
   "metadata": {},
   "source": [
    "### Chestertown, Maryland, USA"
   ]
  },
  {
   "cell_type": "markdown",
   "metadata": {},
   "source": [
    "I was born and raised in Chestertown until the age of 11. All of my early childhood memories and connections to my family stem from this town. \n",
    "\n",
    "<a href = \"http://townofchestertown.com\" target= \"_blank\"> Chestertown's website </a>\n",
    "\n",
    "<figure>\n",
    "    <a href=\"http://finishingtouchshop.com/2013/wp-content/uploads/2013/02/ctownsnow_web-980x3751-940x375.jpg\">\n",
    "    <img src= \"http://finishingtouchshop.com/2013/wp-content/uploads/2013/02/ctownsnow_web-980x3751-940x375.jpg\"\n",
    "         alt= \"The town is centered around the Chesapeak Bay.\" ></a>\n",
    "    <figcaption> The town is centered around the Chesapeak Bay.\n",
    "    </figcaption>\n",
    "</figure>\n",
    "\n"
   ]
  }
 ],
 "metadata": {
  "kernelspec": {
   "display_name": "Python 3",
   "language": "python",
   "name": "python3"
  },
  "language_info": {
   "codemirror_mode": {
    "name": "ipython",
    "version": 3
   },
   "file_extension": ".py",
   "mimetype": "text/x-python",
   "name": "python",
   "nbconvert_exporter": "python",
   "pygments_lexer": "ipython3",
   "version": "3.6.5"
  }
 },
 "nbformat": 4,
 "nbformat_minor": 2
}
