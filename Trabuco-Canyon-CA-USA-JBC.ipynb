{
 "cells": [
  {
   "cell_type": "markdown",
   "metadata": {},
   "source": [
    "# Trabuco Canyon, CA, USA\n",
    "\n",
    "The hometown for the first 20 years of my life! Trabuco Canyon is a small unincorporated community located in the foothills of the Santa Ana Mountains in eastern Orange County, California, and lies partly within the Cleveland National Forest (where I developed my love for \"the hills\"). <a href=\"https://en.wikipedia.org/wiki/Trabuco_Canyon,_California/\" target=\"_blank\"> Trabuco Canyon Wikipedia<a>.\n",
    "    \n",
    "Currently there is a ~24,000 acre fire burning in the Cleveland National forest:\n",
    "\n",
    "<figure>\n",
    "   <a href=\"https://tribktla.files.wordpress.com/2018/08/fire-3.jpg?quality=85&strip=all&strip=all\">\n",
    "   <img src=\"https://tribktla.files.wordpress.com/2018/08/fire-3.jpg?quality=85&strip=all&strip=all\" alt=\"Photo of the Holy fire that started in Trabuco Canyon\"></a>\n",
    "   <figcaption> Holy fire that started in Trabuco Canyon.\n",
    "   </figcaption>\n",
    "</figure>\n",
    "\n"
   ]
  },
  {
   "cell_type": "code",
   "execution_count": null,
   "metadata": {},
   "outputs": [],
   "source": []
  }
 ],
 "metadata": {
  "kernelspec": {
   "display_name": "Python 3",
   "language": "python",
   "name": "python3"
  },
  "language_info": {
   "codemirror_mode": {
    "name": "ipython",
    "version": 3
   },
   "file_extension": ".py",
   "mimetype": "text/x-python",
   "name": "python",
   "nbconvert_exporter": "python",
   "pygments_lexer": "ipython3",
   "version": "3.6.5"
  }
 },
 "nbformat": 4,
 "nbformat_minor": 2
}
