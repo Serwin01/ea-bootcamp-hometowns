{
 "cells": [
  {
   "cell_type": "markdown",
   "metadata": {},
   "source": [
    "# West Lafayette, Indiana, USA\n",
    "I lived in Indiana from age 3 through 3rd grade. I moved a lot while growing up so don't really have a hometown, but of all the places I've lived I have maintained the most friendships from my time in Indiana.\n",
    "\n",
    "\n",
    "To learn more about West Lafayette, IN check out the link below.  \n",
    "[West Lafayette's Wikipedia Page](https://en.wikipedia.org/wiki/West_Lafayette,_Indiana \"Learn more about the land of corn!\")\n",
    "\n",
    "\n",
    "West Lafayette, IN is home to Purdue, a large university. However, my experience living and visiting there has shown me that the real attraction for the locals is something a little more down to earth that higher education. The people of Indiana love corn and cornfields. They make corn mazes, gauge the climate based on corn height, have weird bonfire parties in or near their cornfields, etc.   \n",
    "\n",
    "![Rain makes corn, corn makes whiskey...](https://media.mnn.com/assets/images/2018/03/cornfield.jpg.653x0_q80_crop-smart.jpg \"Highlight of Indiana Social Life\")\n",
    "\n",
    "\n"
   ]
  },
  {
   "cell_type": "code",
   "execution_count": null,
   "metadata": {},
   "outputs": [],
   "source": []
  }
 ],
 "metadata": {
  "kernelspec": {
   "display_name": "Python 3",
   "language": "python",
   "name": "python3"
  },
  "language_info": {
   "codemirror_mode": {
    "name": "ipython",
    "version": 3
   },
   "file_extension": ".py",
   "mimetype": "text/x-python",
   "name": "python",
   "nbconvert_exporter": "python",
   "pygments_lexer": "ipython3",
   "version": "3.6.5"
  }
 },
 "nbformat": 4,
 "nbformat_minor": 2
}
