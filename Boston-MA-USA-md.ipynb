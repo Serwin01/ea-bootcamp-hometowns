{
 "cells": [
  {
   "cell_type": "markdown",
   "metadata": {},
   "source": [
    "# Boston, MA, USA\n",
    "\n",
    "\n",
    "Boston is a beautiful harbor city with a huge amount of history.  Did you know: Boston has the oldest light rail system in the US?\n",
    "\n",
    "\n",
    "![alt](http://upload.wikimedia.org/wikipedia/commons/thumb/6/6d/Boston_Montage.jpg/800px-Boston_Montage.jpg)\n",
    "\n"
   ]
  }
 ],
 "metadata": {
  "kernelspec": {
   "display_name": "Python 3",
   "language": "python",
   "name": "python3"
  },
  "language_info": {
   "codemirror_mode": {
    "name": "ipython",
    "version": 3
   },
   "file_extension": ".py",
   "mimetype": "text/x-python",
   "name": "python",
   "nbconvert_exporter": "python",
   "pygments_lexer": "ipython3",
   "version": "3.6.5"
  }
 },
 "nbformat": 4,
 "nbformat_minor": 2
}
