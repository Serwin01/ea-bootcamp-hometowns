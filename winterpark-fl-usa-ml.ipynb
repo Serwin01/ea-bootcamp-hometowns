{
 "cells": [
  {
   "cell_type": "markdown",
   "metadata": {},
   "source": [
    "## Winter Park, FL, USA\n",
    "\n",
    "Born and raised in Winter Park, FL, I moved to Boulder as soon as I could. Winter Park is the home of Rollins College, the Winter Park Chain of Lakes, and the Morse Museum. Additionally, the annual Winter Park Sidewalk Art Festival draws both locals and visitors downtown to Park Avenue (additional information found at http://wpsaf.org/). <figure>\n",
    "    <img src=\"/Users/Michael Levis/earth-analytics-bootcamp/Image.jpg\"/>"
   ]
  },
  {
   "cell_type": "code",
   "execution_count": null,
   "metadata": {},
   "outputs": [],
   "source": []
  }
 ],
 "metadata": {
  "kernelspec": {
   "display_name": "Python 3",
   "language": "python",
   "name": "python3"
  },
  "language_info": {
   "codemirror_mode": {
    "name": "ipython",
    "version": 3
   },
   "file_extension": ".py",
   "mimetype": "text/x-python",
   "name": "python",
   "nbconvert_exporter": "python",
   "pygments_lexer": "ipython3",
   "version": "3.6.5"
  }
 },
 "nbformat": 4,
 "nbformat_minor": 2
}
