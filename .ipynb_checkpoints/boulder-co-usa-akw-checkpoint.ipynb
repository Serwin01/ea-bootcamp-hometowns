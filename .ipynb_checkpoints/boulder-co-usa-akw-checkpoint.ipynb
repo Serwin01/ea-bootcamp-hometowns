{
 "cells": [
  {
   "cell_type": "markdown",
   "metadata": {},
   "source": [
    "# Boulder, CO, USA\n",
    "I moved to Boulder in 1995 to attend CU for my undergrad. I liked it so much, I never left.\n",
    "\n",
    "To learn more about Boulder like population and other facts and to see events that are happening around the city see the <a href=\"https://www.bouldercoloradousa.com/\">Boulder Coloarado USA website</a>.\n",
    "\n",
    "\n",
    "<figure>\n",
    "    <img src=\"https://res.cloudinary.com/simpleview/image/fetch/f_auto,q_75/https://boulder.simpleviewcrm.com/images/listings/original_pearl20.jpg\" alt=\"Pearl Street Mall\">\n",
    "    <figcaption>The iconic Pearl Street Mall in downtown Boulder. It's a walking mall that's closed to vehicles and has lots of shops and restaraunts.\n",
    "    </figcaption>\n",
    "</figure>"
   ]
  }
 ],
 "metadata": {
  "kernelspec": {
   "display_name": "Python 3",
   "language": "python",
   "name": "python3"
  },
  "language_info": {
   "codemirror_mode": {
    "name": "ipython",
    "version": 3
   },
   "file_extension": ".py",
   "mimetype": "text/x-python",
   "name": "python",
   "nbconvert_exporter": "python",
   "pygments_lexer": "ipython3",
   "version": "3.6.5"
  }
 },
 "nbformat": 4,
 "nbformat_minor": 2
}
