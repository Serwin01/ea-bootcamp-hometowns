{
 "cells": [
  {
   "cell_type": "markdown",
   "metadata": {},
   "source": [
    "## Houston, TX, USA\n",
    "\n",
    "I was born and raised in Houston, TX, and though I've moved around a lot as an adult, my family still lives there. \n",
    "\n",
    "Houston is considered one of the most diverse cities in the country, primarily due to employment by NASA, the medical industry (e.g. MD Anderson Cancer Center), and the oil and gas industry.\n",
    "\n",
    "The population and demographic information of Houston can be found on <a href=\"https://en.wikipedia.org/wiki/Houston/\" target=\"_blank\">the Wikipedia page for Houston</a>.\n",
    "\n",
    "\n",
    "\n",
    "<figure>\n",
    "   <a href=\"https://encrypted-tbn0.gstatic.com/images?q=tbn:ANd9GcRmlfg4FZPWlHiXqnDN6DWUQOdAhnB9XiKFKcO8D9brpK0ec3zNPA\">\n",
    "   <img src=\"https://encrypted-tbn0.gstatic.com/images?q=tbn:ANd9GcRmlfg4FZPWlHiXqnDN6DWUQOdAhnB9XiKFKcO8D9brpK0ec3zNPA\" alt=\"The Menil Collection is a unique art collection that is privately owned but freely open to the public. It contains modern and post-modern art, some created by widely known artists. It is a recommended stop for any art lover that visits Houston, TX.\"></a>\n",
    "   <figcaption> The Menil Collection is a unique art collection that is privately owned but freely open to the public. It contains modern and post-modern art, some created by widely known artists. It is a recommended stop for any art lover that visits Houston, TX.\n",
    "   </figcaption>\n",
    "</figure>"
   ]
  },
  {
   "cell_type": "code",
   "execution_count": null,
   "metadata": {},
   "outputs": [],
   "source": []
  }
 ],
 "metadata": {
  "kernelspec": {
   "display_name": "Python 3",
   "language": "python",
   "name": "python3"
  },
  "language_info": {
   "codemirror_mode": {
    "name": "ipython",
    "version": 3
   },
   "file_extension": ".py",
   "mimetype": "text/x-python",
   "name": "python",
   "nbconvert_exporter": "python",
   "pygments_lexer": "ipython3",
   "version": "3.6.5"
  }
 },
 "nbformat": 4,
 "nbformat_minor": 2
}
