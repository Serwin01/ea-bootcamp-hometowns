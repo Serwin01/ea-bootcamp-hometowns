{
 "cells": [
  {
   "cell_type": "markdown",
   "metadata": {},
   "source": [
    "## Austin, Texas\n",
    "\n",
    "Austin, TX is the capital city in central Texas, named after Stephen F. Austin, who I'm apparently related to.  Its a fun, funky town with great music and culture that had the phrase \"Keep Austin Weird\" as its motto way before Portland stole the saying.\n",
    "\n",
    "<a href = \"https://en.wikipedia.org/wiki/Austin,_Texas\" target= \"_blank\"> The wikipedia page for Austin, TX </a>. \n",
    "\n",
    "<figure>\n",
    "    <a href=\"https://images.fineartamerica.com/images-medium-large/greetings-from-austin-jessi-williams.jpg\">\n",
    "    <img src= \"https://images.fineartamerica.com/images-medium-large/greetings-from-austin-jessi-williams.jpg\"\n",
    "         alt= \"This iconic mural in Austin has been displayed in almost every foodie show that ever visited the town.\" ></a>\n",
    "    <figcaption> This iconic mural in Austin has been displayed in almost every foodie show that ever visited the town.\n",
    "    </figcaption>\n",
    "</figure>"
   ]
  },
  {
   "cell_type": "code",
   "execution_count": null,
   "metadata": {},
   "outputs": [],
   "source": []
  }
 ],
 "metadata": {
  "kernelspec": {
   "display_name": "Python 3",
   "language": "python",
   "name": "python3"
  },
  "language_info": {
   "codemirror_mode": {
    "name": "ipython",
    "version": 3
   },
   "file_extension": ".py",
   "mimetype": "text/x-python",
   "name": "python",
   "nbconvert_exporter": "python",
   "pygments_lexer": "ipython3",
   "version": "3.6.5"
  }
 },
 "nbformat": 4,
 "nbformat_minor": 2
}
