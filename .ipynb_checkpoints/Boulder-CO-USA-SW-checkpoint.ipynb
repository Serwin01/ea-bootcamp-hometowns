{
 "cells": [
  {
   "cell_type": "markdown",
   "metadata": {},
   "source": [
    "**Boulder, Colorado**\n",
    "\n",
    "I have lived in Boulder for 4 years and I love the mountains and trails here. \n",
    "\n",
    "<a href = \"https://en.wikipedia.org/wiki/Boulder,_Colorado\" target= \"_blank\"> The wikipedia page for Boulder, CO </a>. \n",
    "\n",
    "<figure>\n",
    "    <a href=\"http://hikedoggie.com/wp-content/uploads/2017/05/chautauqua-main-opt-e1494449801253-960x496.jpg\">\n",
    "    <img src= \"http://hikedoggie.com/wp-content/uploads/2017/05/chautauqua-main-opt-e1494449801253-960x496.jpg\"\n",
    "         alt= \"Chautauqua is a wonderful place to go for a hike and is a historic landmark of Boulder. You can hike to the flatirons from there.\" ></a>\n",
    "    <figcaption> Chautauqua is a wonderful place to go for a hike and is a historic landmark of Boulder. You can hike to the flatirons from there.\n",
    "    </figcaption>\n",
    "</figure>"
   ]
  },
  {
   "cell_type": "code",
   "execution_count": null,
   "metadata": {},
   "outputs": [],
   "source": []
  }
 ],
 "metadata": {
  "kernelspec": {
   "display_name": "Python 3",
   "language": "python",
   "name": "python3"
  },
  "language_info": {
   "codemirror_mode": {
    "name": "ipython",
    "version": 3
   },
   "file_extension": ".py",
   "mimetype": "text/x-python",
   "name": "python",
   "nbconvert_exporter": "python",
   "pygments_lexer": "ipython3",
   "version": "3.6.5"
  }
 },
 "nbformat": 4,
 "nbformat_minor": 2
}
