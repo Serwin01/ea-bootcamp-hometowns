{
 "cells": [
  {
   "cell_type": "markdown",
   "metadata": {},
   "source": [
    "## Telluride, Colorado, USA\n",
    "\n",
    "I lived in Telluride longer than any other place, and still have strong and deep dies to the community, the town and the natural world around Telluride. It's one of the most beautiful places in the world. \n",
    "\n",
    "<a href=\"https://en.wikipedia.org/wiki/Telluride,_Colorado\" target=\"_blank\">Telluride's population is 2325 according to Wikipedia </a> \n",
    "\n",
    "<figure>\n",
    "   <a href=\"https://www.mountainfilm.org/files/MF-TELLURIDE-7.jpg\">\n",
    "   <img src=\"https://www.mountainfilm.org/files/MF-TELLURIDE-7.jpg\" alt=\"Telluride Main street during Mountainfilm\"></a>\n",
    "   <figcaption> Telluride Main street during Mountainfilm\n",
    "   </figcaption>\n",
    "</figure>"
   ]
  },
  {
   "cell_type": "code",
   "execution_count": null,
   "metadata": {},
   "outputs": [],
   "source": []
  }
 ],
 "metadata": {
  "kernelspec": {
   "display_name": "Python 3",
   "language": "python",
   "name": "python3"
  },
  "language_info": {
   "codemirror_mode": {
    "name": "ipython",
    "version": 3
   },
   "file_extension": ".py",
   "mimetype": "text/x-python",
   "name": "python",
   "nbconvert_exporter": "python",
   "pygments_lexer": "ipython3",
   "version": "3.6.5"
  }
 },
 "nbformat": 4,
 "nbformat_minor": 2
}
